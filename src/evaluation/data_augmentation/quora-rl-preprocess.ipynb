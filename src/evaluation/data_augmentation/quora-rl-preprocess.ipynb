{
 "cells": [
  {
   "cell_type": "code",
   "execution_count": 1,
   "metadata": {},
   "outputs": [],
   "source": [
    "import pandas as pd\n",
    "import numpy as np"
   ]
  },
  {
   "cell_type": "code",
   "execution_count": 2,
   "metadata": {},
   "outputs": [],
   "source": [
    "tdf = pd.read_csv('/scratchd/home/satwik/adv_p/data/train_df.csv')\n"
   ]
  },
  {
   "cell_type": "code",
   "execution_count": 4,
   "metadata": {},
   "outputs": [],
   "source": [
    "dat =[]\n",
    "fo = open('data/quora/train_split_100000_orig.txt', 'r')\n",
    "fp = open('data/quora/train_split_100000_para.txt', 'r')\n",
    "while True:\n",
    "    line = fo.readline()\n",
    "    line2 = fp.readline()\n",
    "    if line:\n",
    "        dat.append((line,line2, 1))\n",
    "    else:\n",
    "        break\n",
    "fo.close()\n",
    "fp.close()"
   ]
  },
  {
   "cell_type": "code",
   "execution_count": 5,
   "metadata": {},
   "outputs": [
    {
     "data": {
      "text/plain": [
       "(100000, 3)"
      ]
     },
     "execution_count": 5,
     "metadata": {},
     "output_type": "execute_result"
    }
   ],
   "source": [
    "dat =np.array(dat)\n",
    "dat.shape"
   ]
  },
  {
   "cell_type": "code",
   "execution_count": 6,
   "metadata": {},
   "outputs": [],
   "source": [
    "neg_df = tdf[tdf['is_duplicate'] ==0].copy()"
   ]
  },
  {
   "cell_type": "code",
   "execution_count": 8,
   "metadata": {},
   "outputs": [],
   "source": [
    "neg_df = neg_df[neg_df.columns[-3:]]"
   ]
  },
  {
   "cell_type": "code",
   "execution_count": 9,
   "metadata": {},
   "outputs": [
    {
     "data": {
      "text/html": [
       "<div>\n",
       "<style scoped>\n",
       "    .dataframe tbody tr th:only-of-type {\n",
       "        vertical-align: middle;\n",
       "    }\n",
       "\n",
       "    .dataframe tbody tr th {\n",
       "        vertical-align: top;\n",
       "    }\n",
       "\n",
       "    .dataframe thead th {\n",
       "        text-align: right;\n",
       "    }\n",
       "</style>\n",
       "<table border=\"1\" class=\"dataframe\">\n",
       "  <thead>\n",
       "    <tr style=\"text-align: right;\">\n",
       "      <th></th>\n",
       "      <th>question1</th>\n",
       "      <th>question2</th>\n",
       "      <th>is_duplicate</th>\n",
       "    </tr>\n",
       "  </thead>\n",
       "  <tbody>\n",
       "    <tr>\n",
       "      <th>0</th>\n",
       "      <td>Is Somalia an accurate outcome of a libertaria...</td>\n",
       "      <td>Does Somalia have a government?</td>\n",
       "      <td>0</td>\n",
       "    </tr>\n",
       "    <tr>\n",
       "      <th>2</th>\n",
       "      <td>My hair is hard how to make it soft?</td>\n",
       "      <td>What does it feel like when you tell your crus...</td>\n",
       "      <td>0</td>\n",
       "    </tr>\n",
       "    <tr>\n",
       "      <th>3</th>\n",
       "      <td>What do you think Brazilians think foreigners ...</td>\n",
       "      <td>What do foreigners usually think about Brazil?</td>\n",
       "      <td>0</td>\n",
       "    </tr>\n",
       "    <tr>\n",
       "      <th>5</th>\n",
       "      <td>Should we use a phone while it's charging?</td>\n",
       "      <td>Can I use the mobile Internet while charging?</td>\n",
       "      <td>0</td>\n",
       "    </tr>\n",
       "    <tr>\n",
       "      <th>8</th>\n",
       "      <td>My girlfriend likes posts on Instagram, relate...</td>\n",
       "      <td>Is it fair to be upset that one's girlfriend i...</td>\n",
       "      <td>0</td>\n",
       "    </tr>\n",
       "  </tbody>\n",
       "</table>\n",
       "</div>"
      ],
      "text/plain": [
       "                                           question1  \\\n",
       "0  Is Somalia an accurate outcome of a libertaria...   \n",
       "2               My hair is hard how to make it soft?   \n",
       "3  What do you think Brazilians think foreigners ...   \n",
       "5         Should we use a phone while it's charging?   \n",
       "8  My girlfriend likes posts on Instagram, relate...   \n",
       "\n",
       "                                           question2  is_duplicate  \n",
       "0                    Does Somalia have a government?             0  \n",
       "2  What does it feel like when you tell your crus...             0  \n",
       "3     What do foreigners usually think about Brazil?             0  \n",
       "5      Can I use the mobile Internet while charging?             0  \n",
       "8  Is it fair to be upset that one's girlfriend i...             0  "
      ]
     },
     "execution_count": 9,
     "metadata": {},
     "output_type": "execute_result"
    }
   ],
   "source": [
    "neg_df.head()"
   ]
  },
  {
   "cell_type": "code",
   "execution_count": 10,
   "metadata": {},
   "outputs": [],
   "source": [
    "cols = neg_df.columns\n",
    "pos_df = pd.DataFrame(dat, columns=cols)"
   ]
  },
  {
   "cell_type": "code",
   "execution_count": 21,
   "metadata": {},
   "outputs": [
    {
     "data": {
      "text/html": [
       "<div>\n",
       "<style scoped>\n",
       "    .dataframe tbody tr th:only-of-type {\n",
       "        vertical-align: middle;\n",
       "    }\n",
       "\n",
       "    .dataframe tbody tr th {\n",
       "        vertical-align: top;\n",
       "    }\n",
       "\n",
       "    .dataframe thead th {\n",
       "        text-align: right;\n",
       "    }\n",
       "</style>\n",
       "<table border=\"1\" class=\"dataframe\">\n",
       "  <thead>\n",
       "    <tr style=\"text-align: right;\">\n",
       "      <th></th>\n",
       "      <th>question1</th>\n",
       "      <th>question2</th>\n",
       "      <th>is_duplicate</th>\n",
       "    </tr>\n",
       "  </thead>\n",
       "  <tbody>\n",
       "    <tr>\n",
       "      <th>0</th>\n",
       "      <td>how do i prepare for 12th class in 1 month ?\\n</td>\n",
       "      <td>what is the best way to prepare for 12th class...</td>\n",
       "      <td>1</td>\n",
       "    </tr>\n",
       "    <tr>\n",
       "      <th>1</th>\n",
       "      <td>can god make a boulder so heavy he ca n't lift...</td>\n",
       "      <td>if god is all powerful can he make a rock so h...</td>\n",
       "      <td>1</td>\n",
       "    </tr>\n",
       "    <tr>\n",
       "      <th>2</th>\n",
       "      <td>are cengage books good for jee advanced ?\\n</td>\n",
       "      <td>are the cengage books for math and phy good en...</td>\n",
       "      <td>1</td>\n",
       "    </tr>\n",
       "    <tr>\n",
       "      <th>3</th>\n",
       "      <td>is there a possibility to love 2 person at onc...</td>\n",
       "      <td>is it possible for people to love 2 person at ...</td>\n",
       "      <td>1</td>\n",
       "    </tr>\n",
       "    <tr>\n",
       "      <th>4</th>\n",
       "      <td>why does n't anyone reply to my questions on q...</td>\n",
       "      <td>why are my questions not answered on quora ?\\n</td>\n",
       "      <td>1</td>\n",
       "    </tr>\n",
       "  </tbody>\n",
       "</table>\n",
       "</div>"
      ],
      "text/plain": [
       "                                           question1  \\\n",
       "0     how do i prepare for 12th class in 1 month ?\\n   \n",
       "1  can god make a boulder so heavy he ca n't lift...   \n",
       "2        are cengage books good for jee advanced ?\\n   \n",
       "3  is there a possibility to love 2 person at onc...   \n",
       "4  why does n't anyone reply to my questions on q...   \n",
       "\n",
       "                                           question2 is_duplicate  \n",
       "0  what is the best way to prepare for 12th class...            1  \n",
       "1  if god is all powerful can he make a rock so h...            1  \n",
       "2  are the cengage books for math and phy good en...            1  \n",
       "3  is it possible for people to love 2 person at ...            1  \n",
       "4     why are my questions not answered on quora ?\\n            1  "
      ]
     },
     "execution_count": 21,
     "metadata": {},
     "output_type": "execute_result"
    }
   ],
   "source": [
    "pos_df.head()"
   ]
  },
  {
   "cell_type": "code",
   "execution_count": null,
   "metadata": {},
   "outputs": [],
   "source": []
  },
  {
   "cell_type": "code",
   "execution_count": 12,
   "metadata": {},
   "outputs": [],
   "source": [
    "full_df =pos_df.append(neg_df)\n"
   ]
  },
  {
   "cell_type": "code",
   "execution_count": 24,
   "metadata": {},
   "outputs": [],
   "source": [
    "full_df['question1'] = full_df['question1'].apply(lambda x : str(x).replace('\\n', '').replace('\\r', ''))\n",
    "full_df['question2'] = full_df['question2'].apply(lambda x : str(x).replace('\\n', '').replace('\\r', ''))"
   ]
  },
  {
   "cell_type": "code",
   "execution_count": 26,
   "metadata": {},
   "outputs": [
    {
     "data": {
      "text/plain": [
       "array(['What is The Fee structure Of BDM international school Kolkata?',\n",
       "       'what does teksystems ask in their interview ?',\n",
       "       'What kind (classification) of auction would you say is used in purchasing a home in Norway?',\n",
       "       'what is the best way to stop being obsessed with something ?',\n",
       "       'Do introverts really need to change their traits or they should take those qualities as a gift?',\n",
       "       'What is the maximum number of upvotes one answer can get on Quora?',\n",
       "       'Should I buy a 2015 Macbook Pro or wait for the new updated version?',\n",
       "       'what is tenure of america president ?', 'What is Atomic Labs?',\n",
       "       'what is true beauty ?',\n",
       "       'What are the concepts of universal grammar?',\n",
       "       'Will real estate prices fall in Gurgaon, India?',\n",
       "       'Who are some prominent conservatives on Quora?',\n",
       "       'how do i stop masturbation permanently ?',\n",
       "       'How should I prepare for job interviews?',\n",
       "       \"How did Weightless (2017 movie) get greenlit? What's the backstory of how the movie got made?\",\n",
       "       'what is your biggest challenge in life right now ?',\n",
       "       'Which type of face shape do I have?',\n",
       "       'how do i apply for a specific license ?',\n",
       "       'What are oppressed groups?'], dtype=object)"
      ]
     },
     "execution_count": 26,
     "metadata": {},
     "output_type": "execute_result"
    }
   ],
   "source": [
    "full_df['question1'].values[:20]"
   ]
  },
  {
   "cell_type": "code",
   "execution_count": 25,
   "metadata": {},
   "outputs": [
    {
     "data": {
      "text/plain": [
       "question1       object\n",
       "question2       object\n",
       "is_duplicate    object\n",
       "dtype: object"
      ]
     },
     "execution_count": 25,
     "metadata": {},
     "output_type": "execute_result"
    }
   ],
   "source": [
    "full_df.dtypes"
   ]
  },
  {
   "cell_type": "code",
   "execution_count": 23,
   "metadata": {},
   "outputs": [
    {
     "data": {
      "text/html": [
       "<div>\n",
       "<style scoped>\n",
       "    .dataframe tbody tr th:only-of-type {\n",
       "        vertical-align: middle;\n",
       "    }\n",
       "\n",
       "    .dataframe tbody tr th {\n",
       "        vertical-align: top;\n",
       "    }\n",
       "\n",
       "    .dataframe thead th {\n",
       "        text-align: right;\n",
       "    }\n",
       "</style>\n",
       "<table border=\"1\" class=\"dataframe\">\n",
       "  <thead>\n",
       "    <tr style=\"text-align: right;\">\n",
       "      <th></th>\n",
       "      <th>question1</th>\n",
       "      <th>question2</th>\n",
       "      <th>is_duplicate</th>\n",
       "    </tr>\n",
       "  </thead>\n",
       "  <tbody>\n",
       "    <tr>\n",
       "      <th>0</th>\n",
       "      <td>What is The Fee structure Of BDM international...</td>\n",
       "      <td>How do you figure out your ideal customer prof...</td>\n",
       "      <td>0</td>\n",
       "    </tr>\n",
       "    <tr>\n",
       "      <th>1</th>\n",
       "      <td>what does teksystems ask in their interview ?\\n</td>\n",
       "      <td>what does teksystems ask in their it interview...</td>\n",
       "      <td>1</td>\n",
       "    </tr>\n",
       "    <tr>\n",
       "      <th>2</th>\n",
       "      <td>What kind (classification) of auction would yo...</td>\n",
       "      <td>How many orbitals are there in the 4th orbit o...</td>\n",
       "      <td>0</td>\n",
       "    </tr>\n",
       "    <tr>\n",
       "      <th>3</th>\n",
       "      <td>what is the best way to stop being obsessed wi...</td>\n",
       "      <td>how should obsession be treated ? how do i sto...</td>\n",
       "      <td>1</td>\n",
       "    </tr>\n",
       "    <tr>\n",
       "      <th>4</th>\n",
       "      <td>Do introverts really need to change their trai...</td>\n",
       "      <td>In my kids' schools, teachers identify childre...</td>\n",
       "      <td>0</td>\n",
       "    </tr>\n",
       "  </tbody>\n",
       "</table>\n",
       "</div>"
      ],
      "text/plain": [
       "                                           question1  \\\n",
       "0  What is The Fee structure Of BDM international...   \n",
       "1    what does teksystems ask in their interview ?\\n   \n",
       "2  What kind (classification) of auction would yo...   \n",
       "3  what is the best way to stop being obsessed wi...   \n",
       "4  Do introverts really need to change their trai...   \n",
       "\n",
       "                                           question2 is_duplicate  \n",
       "0  How do you figure out your ideal customer prof...            0  \n",
       "1  what does teksystems ask in their it interview...            1  \n",
       "2  How many orbitals are there in the 4th orbit o...            0  \n",
       "3  how should obsession be treated ? how do i sto...            1  \n",
       "4  In my kids' schools, teachers identify childre...            0  "
      ]
     },
     "execution_count": 23,
     "metadata": {},
     "output_type": "execute_result"
    }
   ],
   "source": [
    "full_df.head()"
   ]
  },
  {
   "cell_type": "code",
   "execution_count": 27,
   "metadata": {},
   "outputs": [
    {
     "data": {
      "text/plain": [
       "(263253, 3)"
      ]
     },
     "execution_count": 27,
     "metadata": {},
     "output_type": "execute_result"
    }
   ],
   "source": [
    "full_df.shape"
   ]
  },
  {
   "cell_type": "code",
   "execution_count": 28,
   "metadata": {},
   "outputs": [
    {
     "data": {
      "text/plain": [
       "0    163253\n",
       "1    100000\n",
       "Name: is_duplicate, dtype: int64"
      ]
     },
     "execution_count": 28,
     "metadata": {},
     "output_type": "execute_result"
    }
   ],
   "source": [
    "full_df['is_duplicate'].value_counts()"
   ]
  },
  {
   "cell_type": "code",
   "execution_count": 17,
   "metadata": {},
   "outputs": [],
   "source": [
    "full_df =full_df.sample(frac=1)\n",
    "full_df.index =list(range(len(full_df)))"
   ]
  },
  {
   "cell_type": "code",
   "execution_count": 29,
   "metadata": {},
   "outputs": [],
   "source": [
    "full_df.to_csv('/scratchd/home/satwik/adv_p/data/train_new_df.tsv', sep='\\t', index=None, header= None)"
   ]
  },
  {
   "cell_type": "code",
   "execution_count": null,
   "metadata": {},
   "outputs": [],
   "source": []
  }
 ],
 "metadata": {
  "kernelspec": {
   "display_name": "3dv",
   "language": "python",
   "name": "3dv"
  },
  "language_info": {
   "codemirror_mode": {
    "name": "ipython",
    "version": 3
   },
   "file_extension": ".py",
   "mimetype": "text/x-python",
   "name": "python",
   "nbconvert_exporter": "python",
   "pygments_lexer": "ipython3",
   "version": "3.5.2"
  }
 },
 "nbformat": 4,
 "nbformat_minor": 2
}
