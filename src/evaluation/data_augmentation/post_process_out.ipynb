{
 "cells": [
  {
   "cell_type": "code",
   "execution_count": 1,
   "metadata": {},
   "outputs": [],
   "source": [
    "import pandas as pd\n",
    "import numpy as np"
   ]
  },
  {
   "cell_type": "code",
   "execution_count": 26,
   "metadata": {},
   "outputs": [],
   "source": [
    "from distinct_metric import avg_nd\n",
    "from bleu_metric import avg_bleu"
   ]
  },
  {
   "cell_type": "code",
   "execution_count": 28,
   "metadata": {},
   "outputs": [
    {
     "name": "stdout",
     "output_type": "stream",
     "text": [
      "Avg : 1 - distinct ngrams: 0.13594379085468888\n",
      "Avg : 2 - distinct ngrams: 0.2610269633479409\n",
      "Avg : 3 - distinct ngrams: 0.35422577686234435\n",
      "Avg : 4 - distinct ngrams: 0.4450540060760121\n",
      "Avg : 5 - distinct ngrams: 0.5271016621013985\n"
     ]
    }
   ],
   "source": [
    "res = np.load('./out/results_normal_testsamp_src.npy')\n",
    "for n in range(1,6):\n",
    "    print('Avg : {} - distinct ngrams: {}'.format(n, avg_nd(res,n)))"
   ]
  },
  {
   "cell_type": "code",
   "execution_count": 20,
   "metadata": {},
   "outputs": [
    {
     "name": "stdout",
     "output_type": "stream",
     "text": [
      "Avg : 1 - distinct ngrams: 0.1878842137502277\n",
      "Avg : 2 - distinct ngrams: 0.37190892705991097\n",
      "Avg : 3 - distinct ngrams: 0.498063528397278\n",
      "Avg : 4 - distinct ngrams: 0.6138410464985625\n",
      "Avg : 5 - distinct ngrams: 0.7077403615355384\n"
     ]
    }
   ],
   "source": [
    "res = np.load('./out/results_dpp_testsamp_src.npy')\n",
    "for n in range(1,6):\n",
    "    print('Avg : {} - distinct ngrams: {}'.format(n, avg_nd(res,n)))"
   ]
  },
  {
   "cell_type": "code",
   "execution_count": 10,
   "metadata": {},
   "outputs": [
    {
     "data": {
      "text/plain": [
       "(100, 20)"
      ]
     },
     "execution_count": 10,
     "metadata": {},
     "output_type": "execute_result"
    }
   ],
   "source": [
    "res.shape"
   ]
  },
  {
   "cell_type": "code",
   "execution_count": 11,
   "metadata": {},
   "outputs": [
    {
     "name": "stdout",
     "output_type": "stream",
     "text": [
      "Avg : 1 - distinct ngrams: 0.19386747811133834\n",
      "Avg : 2 - distinct ngrams: 0.38642273828076446\n",
      "Avg : 3 - distinct ngrams: 0.5179485248182307\n",
      "Avg : 4 - distinct ngrams: 0.6401065830263224\n",
      "Avg : 5 - distinct ngrams: 0.73523680480697\n"
     ]
    }
   ],
   "source": [
    "res = np.load('./out/results_ssr_testsamp_src.npy')\n",
    "for n in range(1,6):\n",
    "    print('Avg : {} - distinct ngrams: {}'.format(n, avg_nd(res,n)))"
   ]
  },
  {
   "cell_type": "code",
   "execution_count": 12,
   "metadata": {},
   "outputs": [
    {
     "name": "stdout",
     "output_type": "stream",
     "text": [
      "Avg : 1 - distinct ngrams: 0.20493562668791712\n",
      "Avg : 2 - distinct ngrams: 0.42345996998380503\n",
      "Avg : 3 - distinct ngrams: 0.5630783307300165\n",
      "Avg : 4 - distinct ngrams: 0.6732456244741887\n",
      "Avg : 5 - distinct ngrams: 0.7541735718766442\n"
     ]
    }
   ],
   "source": [
    "res = np.load('./out/results_submod_testsamp_src.npy')\n",
    "for n in range(1,6):\n",
    "    print('Avg : {} - distinct ngrams: {}'.format(n, avg_nd(res,n)))"
   ]
  },
  {
   "cell_type": "code",
   "execution_count": 33,
   "metadata": {},
   "outputs": [
    {
     "name": "stdout",
     "output_type": "stream",
     "text": [
      "Avg : 1 - distinct ngrams: 0.13006722381763386\n",
      "Avg : 2 - distinct ngrams: 0.24916120338072406\n",
      "Avg : 3 - distinct ngrams: 0.337460866450974\n",
      "Avg : 4 - distinct ngrams: 0.4227112238892806\n",
      "Avg : 5 - distinct ngrams: 0.5049090510093287\n"
     ]
    }
   ],
   "source": [
    "res = np.load('./out/results_submod1_testsamp_src.npy')\n",
    "for n in range(1,6):\n",
    "    print('Avg : {} - distinct ngrams: {}'.format(n, avg_nd(res,n)))"
   ]
  },
  {
   "cell_type": "code",
   "execution_count": 23,
   "metadata": {},
   "outputs": [],
   "source": [
    "refs = np.load('./out/target_testsamp.npy')"
   ]
  },
  {
   "cell_type": "code",
   "execution_count": 34,
   "metadata": {},
   "outputs": [
    {
     "data": {
      "text/plain": [
       "((100, 20), (100,))"
      ]
     },
     "execution_count": 34,
     "metadata": {},
     "output_type": "execute_result"
    }
   ],
   "source": [
    "res.shape, refs.shape"
   ]
  },
  {
   "cell_type": "code",
   "execution_count": null,
   "metadata": {},
   "outputs": [],
   "source": []
  },
  {
   "cell_type": "code",
   "execution_count": 36,
   "metadata": {},
   "outputs": [
    {
     "name": "stdout",
     "output_type": "stream",
     "text": [
      "Avg : 1 - distinct ngrams: 0.13852622262512732\n",
      "Avg : 2 - distinct ngrams: 0.26215760469100496\n",
      "Avg : 3 - distinct ngrams: 0.3515406823115432\n",
      "Avg : 4 - distinct ngrams: 0.4416725612239161\n",
      "Avg : 5 - distinct ngrams: 0.5265019799460186\n"
     ]
    }
   ],
   "source": [
    "res = np.load('./out/results_normal_testx_src.npy')\n",
    "for n in range(1,6):\n",
    "    print('Avg : {} - distinct ngrams: {}'.format(n, avg_nd(res,n)))"
   ]
  },
  {
   "cell_type": "code",
   "execution_count": 38,
   "metadata": {},
   "outputs": [
    {
     "name": "stdout",
     "output_type": "stream",
     "text": [
      "Avg : 1 - distinct ngrams: 0.1867027079942505\n",
      "Avg : 2 - distinct ngrams: 0.36815502185532056\n",
      "Avg : 3 - distinct ngrams: 0.49154806281702385\n",
      "Avg : 4 - distinct ngrams: 0.60493771956006\n",
      "Avg : 5 - distinct ngrams: 0.698370805082634\n"
     ]
    }
   ],
   "source": [
    "res = np.load('./out/results_dpp_testx_src.npy')\n",
    "for n in range(1,6):\n",
    "    print('Avg : {} - distinct ngrams: {}'.format(n, avg_nd(res,n)))"
   ]
  },
  {
   "cell_type": "code",
   "execution_count": 39,
   "metadata": {},
   "outputs": [
    {
     "name": "stdout",
     "output_type": "stream",
     "text": [
      "Avg : 1 - distinct ngrams: 0.19152095563954422\n",
      "Avg : 2 - distinct ngrams: 0.37495131032962625\n",
      "Avg : 3 - distinct ngrams: 0.5023548093527269\n",
      "Avg : 4 - distinct ngrams: 0.6211676415441559\n",
      "Avg : 5 - distinct ngrams: 0.7191771537718779\n"
     ]
    }
   ],
   "source": [
    "res = np.load('./out/results_ssr_testx_src.npy')\n",
    "for n in range(1,6):\n",
    "    print('Avg : {} - distinct ngrams: {}'.format(n, avg_nd(res,n)))"
   ]
  },
  {
   "cell_type": "code",
   "execution_count": 40,
   "metadata": {},
   "outputs": [
    {
     "name": "stdout",
     "output_type": "stream",
     "text": [
      "Avg : 1 - distinct ngrams: 0.20243926371703921\n",
      "Avg : 2 - distinct ngrams: 0.4149038069620631\n",
      "Avg : 3 - distinct ngrams: 0.5533253991918784\n",
      "Avg : 4 - distinct ngrams: 0.6660105063051556\n",
      "Avg : 5 - distinct ngrams: 0.7521480503115776\n"
     ]
    }
   ],
   "source": [
    "res = np.load('./out/results_submod_testx_src.npy')\n",
    "for n in range(1,6):\n",
    "    print('Avg : {} - distinct ngrams: {}'.format(n, avg_nd(res,n)))"
   ]
  },
  {
   "cell_type": "code",
   "execution_count": null,
   "metadata": {},
   "outputs": [],
   "source": [
    "res = np.load('./out/results_submod1_testx_src.npy')\n",
    "for n in range(1,6):\n",
    "    print('Avg : {} - distinct ngrams: {}'.format(n, avg_nd(res,n)))"
   ]
  },
  {
   "cell_type": "code",
   "execution_count": null,
   "metadata": {},
   "outputs": [],
   "source": []
  },
  {
   "cell_type": "code",
   "execution_count": null,
   "metadata": {},
   "outputs": [],
   "source": []
  },
  {
   "cell_type": "code",
   "execution_count": null,
   "metadata": {},
   "outputs": [],
   "source": []
  },
  {
   "cell_type": "code",
   "execution_count": 17,
   "metadata": {},
   "outputs": [],
   "source": [
    "fo = open('./data/quora_new/testx_tgt.txt', 'r')\n",
    "refs =[]\n",
    "\n",
    "while True:\n",
    "    line =fo.readline()\n",
    "    if line:\n",
    "        refs.append(line)\n",
    "    else:\n",
    "        break\n",
    "refs = np.array(refs)\n",
    "fo.close()\n",
    "    "
   ]
  },
  {
   "cell_type": "code",
   "execution_count": 18,
   "metadata": {},
   "outputs": [
    {
     "data": {
      "text/plain": [
       "(1000,)"
      ]
     },
     "execution_count": 18,
     "metadata": {},
     "output_type": "execute_result"
    }
   ],
   "source": [
    "refs.shape"
   ]
  },
  {
   "cell_type": "code",
   "execution_count": 19,
   "metadata": {},
   "outputs": [],
   "source": [
    "np.save('./out/target_testx', refs)"
   ]
  },
  {
   "cell_type": "code",
   "execution_count": 22,
   "metadata": {},
   "outputs": [
    {
     "data": {
      "text/plain": [
       "(100, 20)"
      ]
     },
     "execution_count": 22,
     "metadata": {},
     "output_type": "execute_result"
    }
   ],
   "source": [
    "res.shape"
   ]
  },
  {
   "cell_type": "code",
   "execution_count": null,
   "metadata": {},
   "outputs": [],
   "source": []
  }
 ],
 "metadata": {
  "kernelspec": {
   "display_name": "3dv",
   "language": "python",
   "name": "3dv"
  },
  "language_info": {
   "codemirror_mode": {
    "name": "ipython",
    "version": 3
   },
   "file_extension": ".py",
   "mimetype": "text/x-python",
   "name": "python",
   "nbconvert_exporter": "python",
   "pygments_lexer": "ipython3",
   "version": "3.5.2"
  }
 },
 "nbformat": 4,
 "nbformat_minor": 2
}
