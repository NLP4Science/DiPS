{
 "cells": [
  {
   "cell_type": "code",
   "execution_count": 1,
   "metadata": {},
   "outputs": [],
   "source": [
    "import pandas as pd\n",
    "import numpy as np"
   ]
  },
  {
   "cell_type": "code",
   "execution_count": 5,
   "metadata": {},
   "outputs": [],
   "source": [
    "sent1 = []\n",
    "sent2 = []\n",
    "fp = open('data/quora_new/test_src.txt', 'r')\n",
    "fo = open('data/quora_new/test_tgt.txt', 'r')\n",
    "while True:\n",
    "    line = fp.readline()\n",
    "    line2 = fo.readline()\n",
    "    if line and line2:\n",
    "        sent1+=[line.strip()]\n",
    "        sent2+=[line2.strip()]\n",
    "        \n",
    "\n",
    "    else:\n",
    "        break\n",
    "fp.close()\n",
    "fo.close()"
   ]
  },
  {
   "cell_type": "code",
   "execution_count": 6,
   "metadata": {},
   "outputs": [
    {
     "data": {
      "text/plain": [
       "(5000, 5000)"
      ]
     },
     "execution_count": 6,
     "metadata": {},
     "output_type": "execute_result"
    }
   ],
   "source": [
    "len(sent1), len(sent2)"
   ]
  },
  {
   "cell_type": "code",
   "execution_count": 7,
   "metadata": {},
   "outputs": [],
   "source": [
    "df = pd.DataFrame(list(zip(sent1,sent2)), columns=['question1', 'question2'])"
   ]
  },
  {
   "cell_type": "code",
   "execution_count": 17,
   "metadata": {},
   "outputs": [
    {
     "data": {
      "text/html": [
       "<div>\n",
       "<style scoped>\n",
       "    .dataframe tbody tr th:only-of-type {\n",
       "        vertical-align: middle;\n",
       "    }\n",
       "\n",
       "    .dataframe tbody tr th {\n",
       "        vertical-align: top;\n",
       "    }\n",
       "\n",
       "    .dataframe thead th {\n",
       "        text-align: right;\n",
       "    }\n",
       "</style>\n",
       "<table border=\"1\" class=\"dataframe\">\n",
       "  <thead>\n",
       "    <tr style=\"text-align: right;\">\n",
       "      <th></th>\n",
       "      <th>question1</th>\n",
       "      <th>question2</th>\n",
       "      <th>w1</th>\n",
       "      <th>w2</th>\n",
       "      <th>diff</th>\n",
       "    </tr>\n",
       "  </thead>\n",
       "  <tbody>\n",
       "    <tr>\n",
       "      <th>4995</th>\n",
       "      <td>what is the sahara , and how do the average te...</td>\n",
       "      <td>what is the sahara , and how do the average te...</td>\n",
       "      <td>22</td>\n",
       "      <td>21</td>\n",
       "      <td>1</td>\n",
       "    </tr>\n",
       "    <tr>\n",
       "      <th>4996</th>\n",
       "      <td>should criminals be punished ?</td>\n",
       "      <td>are criminals wicked and deserve punishment ?</td>\n",
       "      <td>5</td>\n",
       "      <td>7</td>\n",
       "      <td>2</td>\n",
       "    </tr>\n",
       "    <tr>\n",
       "      <th>4997</th>\n",
       "      <td>does gary johnson have a chance ?</td>\n",
       "      <td>can gary johnson win the presidency in 2016 ?</td>\n",
       "      <td>7</td>\n",
       "      <td>9</td>\n",
       "      <td>2</td>\n",
       "    </tr>\n",
       "    <tr>\n",
       "      <th>4998</th>\n",
       "      <td>how do i get myself motivated to go to the gym ?</td>\n",
       "      <td>how do i motivate myself to go to the gym regu...</td>\n",
       "      <td>12</td>\n",
       "      <td>12</td>\n",
       "      <td>0</td>\n",
       "    </tr>\n",
       "    <tr>\n",
       "      <th>4999</th>\n",
       "      <td>what is it like to build and/or live in a tiny...</td>\n",
       "      <td>have you lived in a tiny house ?</td>\n",
       "      <td>13</td>\n",
       "      <td>8</td>\n",
       "      <td>5</td>\n",
       "    </tr>\n",
       "  </tbody>\n",
       "</table>\n",
       "</div>"
      ],
      "text/plain": [
       "                                              question1  \\\n",
       "4995  what is the sahara , and how do the average te...   \n",
       "4996                     should criminals be punished ?   \n",
       "4997                  does gary johnson have a chance ?   \n",
       "4998   how do i get myself motivated to go to the gym ?   \n",
       "4999  what is it like to build and/or live in a tiny...   \n",
       "\n",
       "                                              question2  w1  w2  diff  \n",
       "4995  what is the sahara , and how do the average te...  22  21     1  \n",
       "4996      are criminals wicked and deserve punishment ?   5   7     2  \n",
       "4997      can gary johnson win the presidency in 2016 ?   7   9     2  \n",
       "4998  how do i motivate myself to go to the gym regu...  12  12     0  \n",
       "4999                   have you lived in a tiny house ?  13   8     5  "
      ]
     },
     "execution_count": 17,
     "metadata": {},
     "output_type": "execute_result"
    }
   ],
   "source": [
    "df.tail()"
   ]
  },
  {
   "cell_type": "code",
   "execution_count": 12,
   "metadata": {},
   "outputs": [],
   "source": [
    "df['w1'] = df['question1'].apply(lambda x: len(x.split()))\n",
    "df['w2'] = df['question2'].apply(lambda x: len(x.split()))"
   ]
  },
  {
   "cell_type": "code",
   "execution_count": 16,
   "metadata": {},
   "outputs": [],
   "source": [
    "df['diff'] = np.abs(df['w1'] - df['w2'])"
   ]
  },
  {
   "cell_type": "code",
   "execution_count": 18,
   "metadata": {},
   "outputs": [
    {
     "data": {
      "text/html": [
       "<div>\n",
       "<style scoped>\n",
       "    .dataframe tbody tr th:only-of-type {\n",
       "        vertical-align: middle;\n",
       "    }\n",
       "\n",
       "    .dataframe tbody tr th {\n",
       "        vertical-align: top;\n",
       "    }\n",
       "\n",
       "    .dataframe thead th {\n",
       "        text-align: right;\n",
       "    }\n",
       "</style>\n",
       "<table border=\"1\" class=\"dataframe\">\n",
       "  <thead>\n",
       "    <tr style=\"text-align: right;\">\n",
       "      <th></th>\n",
       "      <th>w1</th>\n",
       "      <th>w2</th>\n",
       "      <th>diff</th>\n",
       "    </tr>\n",
       "  </thead>\n",
       "  <tbody>\n",
       "    <tr>\n",
       "      <th>count</th>\n",
       "      <td>5000.000000</td>\n",
       "      <td>5000.000000</td>\n",
       "      <td>5000.000000</td>\n",
       "    </tr>\n",
       "    <tr>\n",
       "      <th>mean</th>\n",
       "      <td>11.126000</td>\n",
       "      <td>11.184800</td>\n",
       "      <td>2.672400</td>\n",
       "    </tr>\n",
       "    <tr>\n",
       "      <th>std</th>\n",
       "      <td>4.468257</td>\n",
       "      <td>4.603704</td>\n",
       "      <td>2.993739</td>\n",
       "    </tr>\n",
       "    <tr>\n",
       "      <th>min</th>\n",
       "      <td>4.000000</td>\n",
       "      <td>3.000000</td>\n",
       "      <td>0.000000</td>\n",
       "    </tr>\n",
       "    <tr>\n",
       "      <th>25%</th>\n",
       "      <td>8.000000</td>\n",
       "      <td>8.000000</td>\n",
       "      <td>1.000000</td>\n",
       "    </tr>\n",
       "    <tr>\n",
       "      <th>50%</th>\n",
       "      <td>10.000000</td>\n",
       "      <td>10.000000</td>\n",
       "      <td>2.000000</td>\n",
       "    </tr>\n",
       "    <tr>\n",
       "      <th>75%</th>\n",
       "      <td>13.000000</td>\n",
       "      <td>13.000000</td>\n",
       "      <td>4.000000</td>\n",
       "    </tr>\n",
       "    <tr>\n",
       "      <th>max</th>\n",
       "      <td>36.000000</td>\n",
       "      <td>43.000000</td>\n",
       "      <td>29.000000</td>\n",
       "    </tr>\n",
       "  </tbody>\n",
       "</table>\n",
       "</div>"
      ],
      "text/plain": [
       "                w1           w2         diff\n",
       "count  5000.000000  5000.000000  5000.000000\n",
       "mean     11.126000    11.184800     2.672400\n",
       "std       4.468257     4.603704     2.993739\n",
       "min       4.000000     3.000000     0.000000\n",
       "25%       8.000000     8.000000     1.000000\n",
       "50%      10.000000    10.000000     2.000000\n",
       "75%      13.000000    13.000000     4.000000\n",
       "max      36.000000    43.000000    29.000000"
      ]
     },
     "execution_count": 18,
     "metadata": {},
     "output_type": "execute_result"
    }
   ],
   "source": [
    "df.describe()"
   ]
  },
  {
   "cell_type": "code",
   "execution_count": 19,
   "metadata": {},
   "outputs": [],
   "source": [
    "dfx = df[(df['w1']>8) & (df['w1']<13)]"
   ]
  },
  {
   "cell_type": "code",
   "execution_count": 20,
   "metadata": {},
   "outputs": [
    {
     "data": {
      "text/plain": [
       "(2162, 5)"
      ]
     },
     "execution_count": 20,
     "metadata": {},
     "output_type": "execute_result"
    }
   ],
   "source": [
    "dfx.shape"
   ]
  },
  {
   "cell_type": "code",
   "execution_count": 24,
   "metadata": {},
   "outputs": [],
   "source": [
    "dfx.index  = list(range(len(dfx.index)))"
   ]
  },
  {
   "cell_type": "code",
   "execution_count": 25,
   "metadata": {},
   "outputs": [
    {
     "data": {
      "text/plain": [
       "Int64Index([   0,    1,    2,    3,    4,    5,    6,    7,    8,    9,\n",
       "            ...\n",
       "            2152, 2153, 2154, 2155, 2156, 2157, 2158, 2159, 2160, 2161],\n",
       "           dtype='int64', length=2162)"
      ]
     },
     "execution_count": 25,
     "metadata": {},
     "output_type": "execute_result"
    }
   ],
   "source": [
    "dfx.index"
   ]
  },
  {
   "cell_type": "code",
   "execution_count": 26,
   "metadata": {},
   "outputs": [],
   "source": [
    "selec_index =np.random.choice(len(dfx.index), size = 1000, replace=False)"
   ]
  },
  {
   "cell_type": "code",
   "execution_count": 27,
   "metadata": {},
   "outputs": [],
   "source": [
    "dfz = dfx.loc[selec_index].copy()"
   ]
  },
  {
   "cell_type": "code",
   "execution_count": 28,
   "metadata": {},
   "outputs": [
    {
     "data": {
      "text/plain": [
       "(1000, 5)"
      ]
     },
     "execution_count": 28,
     "metadata": {},
     "output_type": "execute_result"
    }
   ],
   "source": [
    "dfz.shape"
   ]
  },
  {
   "cell_type": "code",
   "execution_count": 29,
   "metadata": {},
   "outputs": [
    {
     "data": {
      "text/plain": [
       "(100, 5)"
      ]
     },
     "execution_count": 29,
     "metadata": {},
     "output_type": "execute_result"
    }
   ],
   "source": [
    "selec_index =np.random.choice(len(dfx.index), size = 100, replace=False)\n",
    "dfy = dfx.loc[selec_index].copy()\n",
    "dfy.shape"
   ]
  },
  {
   "cell_type": "code",
   "execution_count": null,
   "metadata": {},
   "outputs": [],
   "source": []
  },
  {
   "cell_type": "code",
   "execution_count": 30,
   "metadata": {},
   "outputs": [],
   "source": [
    "q1 = dfz['question1'].values\n",
    "q2 = dfz['question2'].values\n",
    "\n",
    "fo = open('./data/quora_new/testx_src.txt', 'w')\n",
    "fp = open('./data/quora_new/testx_tgt.txt', 'w')\n",
    "\n",
    "for i in range(len(q1)):\n",
    "    fo.write(q1[i].strip() + '\\n')\n",
    "    fp.write(q2[i].strip() + '\\n')\n",
    "fo.close()\n",
    "fp.close()"
   ]
  },
  {
   "cell_type": "code",
   "execution_count": 31,
   "metadata": {},
   "outputs": [],
   "source": [
    "q1 = dfy['question1'].values\n",
    "q2 = dfy['question2'].values\n",
    "\n",
    "fo = open('./data/quora_new/testsamp_src.txt', 'w')\n",
    "fp = open('./data/quora_new/testsamp_tgt.txt', 'w')\n",
    "\n",
    "for i in range(len(q1)):\n",
    "    fo.write(q1[i].strip() + '\\n')\n",
    "    fp.write(q2[i].strip() + '\\n')\n",
    "fo.close()\n",
    "fp.close()"
   ]
  },
  {
   "cell_type": "code",
   "execution_count": 32,
   "metadata": {},
   "outputs": [
    {
     "data": {
      "text/html": [
       "<div>\n",
       "<style scoped>\n",
       "    .dataframe tbody tr th:only-of-type {\n",
       "        vertical-align: middle;\n",
       "    }\n",
       "\n",
       "    .dataframe tbody tr th {\n",
       "        vertical-align: top;\n",
       "    }\n",
       "\n",
       "    .dataframe thead th {\n",
       "        text-align: right;\n",
       "    }\n",
       "</style>\n",
       "<table border=\"1\" class=\"dataframe\">\n",
       "  <thead>\n",
       "    <tr style=\"text-align: right;\">\n",
       "      <th></th>\n",
       "      <th>question1</th>\n",
       "      <th>question2</th>\n",
       "      <th>w1</th>\n",
       "      <th>w2</th>\n",
       "      <th>diff</th>\n",
       "    </tr>\n",
       "  </thead>\n",
       "  <tbody>\n",
       "    <tr>\n",
       "      <th>1133</th>\n",
       "      <td>what are the benefits of multiculturalism in a...</td>\n",
       "      <td>what are the advantages of multiculturalism in...</td>\n",
       "      <td>9</td>\n",
       "      <td>9</td>\n",
       "      <td>0</td>\n",
       "    </tr>\n",
       "    <tr>\n",
       "      <th>1742</th>\n",
       "      <td>how can i read a book every week ?</td>\n",
       "      <td>how can i read a book a week ?</td>\n",
       "      <td>9</td>\n",
       "      <td>9</td>\n",
       "      <td>0</td>\n",
       "    </tr>\n",
       "    <tr>\n",
       "      <th>90</th>\n",
       "      <td>how do i score more than 750 in the gmat ?</td>\n",
       "      <td>what should i do to score more than 750 in the...</td>\n",
       "      <td>11</td>\n",
       "      <td>13</td>\n",
       "      <td>2</td>\n",
       "    </tr>\n",
       "    <tr>\n",
       "      <th>607</th>\n",
       "      <td>will denver airport get a nonstop flight on em...</td>\n",
       "      <td>is emirates planning a nonstop flight to denver ?</td>\n",
       "      <td>11</td>\n",
       "      <td>9</td>\n",
       "      <td>2</td>\n",
       "    </tr>\n",
       "    <tr>\n",
       "      <th>567</th>\n",
       "      <td>why is saltwater taffy candy imported in spain ?</td>\n",
       "      <td>why is saltwater taffy candy imported in czech...</td>\n",
       "      <td>9</td>\n",
       "      <td>10</td>\n",
       "      <td>1</td>\n",
       "    </tr>\n",
       "  </tbody>\n",
       "</table>\n",
       "</div>"
      ],
      "text/plain": [
       "                                              question1  \\\n",
       "1133  what are the benefits of multiculturalism in a...   \n",
       "1742                 how can i read a book every week ?   \n",
       "90           how do i score more than 750 in the gmat ?   \n",
       "607   will denver airport get a nonstop flight on em...   \n",
       "567    why is saltwater taffy candy imported in spain ?   \n",
       "\n",
       "                                              question2  w1  w2  diff  \n",
       "1133  what are the advantages of multiculturalism in...   9   9     0  \n",
       "1742                     how can i read a book a week ?   9   9     0  \n",
       "90    what should i do to score more than 750 in the...  11  13     2  \n",
       "607   is emirates planning a nonstop flight to denver ?  11   9     2  \n",
       "567   why is saltwater taffy candy imported in czech...   9  10     1  "
      ]
     },
     "execution_count": 32,
     "metadata": {},
     "output_type": "execute_result"
    }
   ],
   "source": [
    "dfy.head()"
   ]
  },
  {
   "cell_type": "code",
   "execution_count": null,
   "metadata": {},
   "outputs": [],
   "source": []
  }
 ],
 "metadata": {
  "kernelspec": {
   "display_name": "3dv",
   "language": "python",
   "name": "3dv"
  },
  "language_info": {
   "codemirror_mode": {
    "name": "ipython",
    "version": 3
   },
   "file_extension": ".py",
   "mimetype": "text/x-python",
   "name": "python",
   "nbconvert_exporter": "python",
   "pygments_lexer": "ipython3",
   "version": "3.5.2"
  }
 },
 "nbformat": 4,
 "nbformat_minor": 2
}
